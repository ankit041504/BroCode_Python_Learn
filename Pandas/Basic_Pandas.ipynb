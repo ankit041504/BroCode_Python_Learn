{
 "cells": [
  {
   "cell_type": "code",
   "execution_count": 5,
   "metadata": {},
   "outputs": [
    {
     "data": {
      "text/html": [
       "<div>\n",
       "<style scoped>\n",
       "    .dataframe tbody tr th:only-of-type {\n",
       "        vertical-align: middle;\n",
       "    }\n",
       "\n",
       "    .dataframe tbody tr th {\n",
       "        vertical-align: top;\n",
       "    }\n",
       "\n",
       "    .dataframe thead th {\n",
       "        text-align: right;\n",
       "    }\n",
       "</style>\n",
       "<table border=\"1\" class=\"dataframe\">\n",
       "  <thead>\n",
       "    <tr style=\"text-align: right;\">\n",
       "      <th></th>\n",
       "      <th>id</th>\n",
       "      <th>member_id</th>\n",
       "      <th>loan_amnt</th>\n",
       "      <th>funded_amnt</th>\n",
       "      <th>funded_amnt_inv</th>\n",
       "      <th>term</th>\n",
       "      <th>int_rate</th>\n",
       "      <th>installment</th>\n",
       "      <th>grade</th>\n",
       "      <th>sub_grade</th>\n",
       "      <th>...</th>\n",
       "      <th>total_bal_il</th>\n",
       "      <th>il_util</th>\n",
       "      <th>open_rv_12m</th>\n",
       "      <th>open_rv_24m</th>\n",
       "      <th>max_bal_bc</th>\n",
       "      <th>all_util</th>\n",
       "      <th>total_rev_hi_lim</th>\n",
       "      <th>inq_fi</th>\n",
       "      <th>total_cu_tl</th>\n",
       "      <th>inq_last_12m</th>\n",
       "    </tr>\n",
       "  </thead>\n",
       "  <tbody>\n",
       "    <tr>\n",
       "      <th>0</th>\n",
       "      <td>68444620</td>\n",
       "      <td>73334399</td>\n",
       "      <td>35000</td>\n",
       "      <td>35000</td>\n",
       "      <td>35000</td>\n",
       "      <td>60 months</td>\n",
       "      <td>11.99</td>\n",
       "      <td>778.38</td>\n",
       "      <td>C</td>\n",
       "      <td>C1</td>\n",
       "      <td>...</td>\n",
       "      <td>35367</td>\n",
       "      <td>49.3</td>\n",
       "      <td>0</td>\n",
       "      <td>1</td>\n",
       "      <td>5020</td>\n",
       "      <td>40.1</td>\n",
       "      <td>52200</td>\n",
       "      <td>1</td>\n",
       "      <td>4</td>\n",
       "      <td>0</td>\n",
       "    </tr>\n",
       "    <tr>\n",
       "      <th>1</th>\n",
       "      <td>68547583</td>\n",
       "      <td>73437441</td>\n",
       "      <td>8650</td>\n",
       "      <td>8650</td>\n",
       "      <td>8650</td>\n",
       "      <td>36 months</td>\n",
       "      <td>5.32</td>\n",
       "      <td>260.50</td>\n",
       "      <td>A</td>\n",
       "      <td>A1</td>\n",
       "      <td>...</td>\n",
       "      <td>24041</td>\n",
       "      <td>88.8</td>\n",
       "      <td>0</td>\n",
       "      <td>3</td>\n",
       "      <td>3081</td>\n",
       "      <td>57.9</td>\n",
       "      <td>26800</td>\n",
       "      <td>1</td>\n",
       "      <td>0</td>\n",
       "      <td>5</td>\n",
       "    </tr>\n",
       "    <tr>\n",
       "      <th>2</th>\n",
       "      <td>67849662</td>\n",
       "      <td>72708407</td>\n",
       "      <td>4225</td>\n",
       "      <td>4225</td>\n",
       "      <td>4225</td>\n",
       "      <td>36 months</td>\n",
       "      <td>14.85</td>\n",
       "      <td>146.16</td>\n",
       "      <td>C</td>\n",
       "      <td>C5</td>\n",
       "      <td>...</td>\n",
       "      <td>3830</td>\n",
       "      <td>21.9</td>\n",
       "      <td>0</td>\n",
       "      <td>0</td>\n",
       "      <td>367</td>\n",
       "      <td>22.4</td>\n",
       "      <td>4300</td>\n",
       "      <td>0</td>\n",
       "      <td>0</td>\n",
       "      <td>0</td>\n",
       "    </tr>\n",
       "    <tr>\n",
       "      <th>3</th>\n",
       "      <td>68506885</td>\n",
       "      <td>73396712</td>\n",
       "      <td>10000</td>\n",
       "      <td>10000</td>\n",
       "      <td>10000</td>\n",
       "      <td>60 months</td>\n",
       "      <td>11.99</td>\n",
       "      <td>222.40</td>\n",
       "      <td>C</td>\n",
       "      <td>C1</td>\n",
       "      <td>...</td>\n",
       "      <td>35354</td>\n",
       "      <td>75.5</td>\n",
       "      <td>1</td>\n",
       "      <td>1</td>\n",
       "      <td>3118</td>\n",
       "      <td>67.4</td>\n",
       "      <td>14200</td>\n",
       "      <td>1</td>\n",
       "      <td>1</td>\n",
       "      <td>1</td>\n",
       "    </tr>\n",
       "    <tr>\n",
       "      <th>4</th>\n",
       "      <td>68341763</td>\n",
       "      <td>72928789</td>\n",
       "      <td>20000</td>\n",
       "      <td>20000</td>\n",
       "      <td>20000</td>\n",
       "      <td>60 months</td>\n",
       "      <td>10.78</td>\n",
       "      <td>432.66</td>\n",
       "      <td>B</td>\n",
       "      <td>B4</td>\n",
       "      <td>...</td>\n",
       "      <td>10827</td>\n",
       "      <td>72.8</td>\n",
       "      <td>0</td>\n",
       "      <td>2</td>\n",
       "      <td>2081</td>\n",
       "      <td>64.7</td>\n",
       "      <td>14000</td>\n",
       "      <td>2</td>\n",
       "      <td>5</td>\n",
       "      <td>1</td>\n",
       "    </tr>\n",
       "  </tbody>\n",
       "</table>\n",
       "<p>5 rows × 74 columns</p>\n",
       "</div>"
      ],
      "text/plain": [
       "         id  member_id  loan_amnt  funded_amnt  funded_amnt_inv        term  \\\n",
       "0  68444620   73334399      35000        35000            35000   60 months   \n",
       "1  68547583   73437441       8650         8650             8650   36 months   \n",
       "2  67849662   72708407       4225         4225             4225   36 months   \n",
       "3  68506885   73396712      10000        10000            10000   60 months   \n",
       "4  68341763   72928789      20000        20000            20000   60 months   \n",
       "\n",
       "   int_rate  installment grade sub_grade  ... total_bal_il il_util  \\\n",
       "0     11.99       778.38     C        C1  ...        35367    49.3   \n",
       "1      5.32       260.50     A        A1  ...        24041    88.8   \n",
       "2     14.85       146.16     C        C5  ...         3830    21.9   \n",
       "3     11.99       222.40     C        C1  ...        35354    75.5   \n",
       "4     10.78       432.66     B        B4  ...        10827    72.8   \n",
       "\n",
       "  open_rv_12m  open_rv_24m max_bal_bc all_util total_rev_hi_lim inq_fi  \\\n",
       "0           0            1       5020     40.1            52200      1   \n",
       "1           0            3       3081     57.9            26800      1   \n",
       "2           0            0        367     22.4             4300      0   \n",
       "3           1            1       3118     67.4            14200      1   \n",
       "4           0            2       2081     64.7            14000      2   \n",
       "\n",
       "  total_cu_tl  inq_last_12m  \n",
       "0           4             0  \n",
       "1           0             5  \n",
       "2           0             0  \n",
       "3           1             1  \n",
       "4           5             1  \n",
       "\n",
       "[5 rows x 74 columns]"
      ]
     },
     "execution_count": 5,
     "metadata": {},
     "output_type": "execute_result"
    }
   ],
   "source": [
    "import pandas as pd\n",
    "\n",
    "df4 = pd.read_csv('loan_data_2015.csv')\n",
    "df4.head(5)"
   ]
  },
  {
   "cell_type": "markdown",
   "metadata": {},
   "source": [
    "## Data Cleaning\n",
    "\n",
    "Data is a very crucial part of data analysis because data with errors and faults can affect analysis and will lead to wrong predictions.\n",
    "\n",
    "Bad Data Consists of Empty cells, Data in the wrong format, Wrong data, and Duplicates.\n",
    "\n",
    "Before performing any sort of data analysis, data scientists spend a significant amount of time cleaning the dataset to ensure that it is in the refined state required for various data science techniques to be applied. \n",
    "\n",
    "Handling messy data, such as missing values, inconsistent formatting, and data types is essential to a data scientist's job.\n",
    "The Process of data cleaning is almost covered in these steps:\n",
    "\n",
    "-> Dropping irrelevant columns.\n",
    "-> Renaming column names to meaningful names.\n",
    "-> Making data values consistent.\n",
    "-> Imputing missing values.\n",
    "\n"
   ]
  },
  {
   "cell_type": "markdown",
   "metadata": {},
   "source": [
    "## Cleaning Empty Cells"
   ]
  },
  {
   "cell_type": "code",
   "execution_count": 6,
   "metadata": {},
   "outputs": [
    {
     "name": "stdout",
     "output_type": "stream",
     "text": [
      "           Name                       Email\n",
      "0    JOHN SMITH        john.smith@gmail.com\n",
      "1      Jane Doe              jdoe@yahoo.com\n",
      "2          None  jonathanbyers888@gmail.com\n",
      "3     joe schmo        joeschmo@hotmail.com\n",
      "4    Jim Hopper                        None\n",
      "5  Mike Wheeler                        None\n",
      "-----------------------------------------------\n",
      "After droping irrelevant rows new dataframe is:\n",
      "-----------------------------------------------\n",
      "         Name                 Email\n",
      "0  JOHN SMITH  john.smith@gmail.com\n",
      "1    Jane Doe        jdoe@yahoo.com\n",
      "3   joe schmo  joeschmo@hotmail.com\n"
     ]
    }
   ],
   "source": [
    "import pandas as pd\n",
    "\n",
    "df5 = pd.DataFrame(\n",
    "    [\n",
    "            ['JOHN SMITH', 'john.smith@gmail.com'],\n",
    "            ['Jane Doe', 'jdoe@yahoo.com'],\n",
    "            [None, 'jonathanbyers888@gmail.com'],\n",
    "            ['joe schmo', 'joeschmo@hotmail.com'],\n",
    "            ['Jim Hopper', None],\n",
    "            ['Mike Wheeler', None]\n",
    "],columns=['Name', 'Email']\n",
    ")\n",
    "\n",
    "print(df5)\n",
    "\n",
    "new_df = df5.dropna()\n",
    "\n",
    "print('-----------------------------------------------')\n",
    "print('After droping irrelevant rows new dataframe is:') #i.e rows 3, 5, 6\n",
    "print('-----------------------------------------------')\n",
    "print(new_df)"
   ]
  },
  {
   "cell_type": "markdown",
   "metadata": {},
   "source": [
    "dropna() will not change the original DataFrame it returns a new DataFrame, to change the original DataFrame use the inplace = True argument inside the dropna."
   ]
  },
  {
   "cell_type": "markdown",
   "metadata": {},
   "source": [
    "## Replacing The Empty Values\n",
    "\n",
    "We can also replace the empty values inside our DataFrame and insert a new value instead.\n",
    "With this, we won't be deleting those entire rows just because of some empty cells.\n",
    "Here, fillna() method used to replace the value, for instance:"
   ]
  },
  {
   "cell_type": "code",
   "execution_count": 7,
   "metadata": {},
   "outputs": [
    {
     "name": "stdout",
     "output_type": "stream",
     "text": [
      "           Name                       Email\n",
      "0    JOHN SMITH        john.smith@gmail.com\n",
      "1      Jane Doe              jdoe@yahoo.com\n",
      "2          None  jonathanbyers888@gmail.com\n",
      "3     joe schmo        joeschmo@hotmail.com\n",
      "4    Jim Hopper                        None\n",
      "5  Mike Wheeler                        None\n",
      "-----------------------------------------------\n",
      "After replacing irrelevant rows cells our dataframe is:\n",
      "-----------------------------------------------\n",
      "           Name                       Email\n",
      "0    JOHN SMITH        john.smith@gmail.com\n",
      "1      Jane Doe              jdoe@yahoo.com\n",
      "2     Not Given  jonathanbyers888@gmail.com\n",
      "3     joe schmo        joeschmo@hotmail.com\n",
      "4    Jim Hopper                   Not Given\n",
      "5  Mike Wheeler                   Not Given\n"
     ]
    }
   ],
   "source": [
    "import pandas as pd\n",
    "\n",
    "df6 = pd.DataFrame(\n",
    "    [\n",
    "        ['JOHN SMITH', 'john.smith@gmail.com'],\n",
    "        ['Jane Doe', 'jdoe@yahoo.com'],\n",
    "        [None, 'jonathanbyers888@gmail.com'],\n",
    "        ['joe schmo', 'joeschmo@hotmail.com'],\n",
    "        ['Jim Hopper', None],\n",
    "        ['Mike Wheeler', None]\n",
    "], columns=['Name', 'Email']\n",
    ")\n",
    "\n",
    "print(df6)\n",
    "\n",
    "df6.fillna('Not Given', inplace=True)\n",
    "\n",
    "print('-----------------------------------------------')\n",
    "print('After replacing irrelevant rows cells our dataframe is:') \n",
    "print('-----------------------------------------------')\n",
    "print(df6)"
   ]
  },
  {
   "cell_type": "markdown",
   "metadata": {},
   "source": [
    "We can also just replace the value in some specified columns, for Example: here only the Name column value is replaced with 'will be updated shortly'."
   ]
  },
  {
   "cell_type": "code",
   "execution_count": 8,
   "metadata": {},
   "outputs": [
    {
     "name": "stdout",
     "output_type": "stream",
     "text": [
      "                      Name                       Email\n",
      "0               JOHN SMITH        john.smith@gmail.com\n",
      "1                 Jane Doe              jdoe@yahoo.com\n",
      "2  Will be updated shortly  jonathanbyers888@gmail.com\n",
      "3                joe schmo        joeschmo@hotmail.com\n",
      "4               Jim Hopper                        None\n",
      "5             Mike Wheeler                        None\n"
     ]
    }
   ],
   "source": [
    "import pandas as pd\n",
    "\n",
    "df7 = pd.DataFrame([\n",
    "  ['JOHN SMITH', 'john.smith@gmail.com'],\n",
    "  ['Jane Doe', 'jdoe@yahoo.com'],\n",
    "  [None, 'jonathanbyers888@gmail.com'],\n",
    "  ['joe schmo', 'joeschmo@hotmail.com'],\n",
    "  ['Jim Hopper', None],\n",
    "  ['Mike Wheeler', None]\n",
    "],\n",
    "columns=['Name', 'Email'])\n",
    "\n",
    "# two ways\n",
    "#1 \n",
    "# df7['Name'].fillna('Will be updated shortly', inplace=True)\n",
    "#2\n",
    "df7['Name'] = df7['Name'].fillna('Will be updated shortly')\n",
    "\n",
    "print(df7)"
   ]
  },
  {
   "cell_type": "markdown",
   "metadata": {},
   "source": [
    "## Working with Duplicates\n",
    "\n",
    "In Data Sets Duplicates can be entered for a variety of reasons. \n",
    "Sometimes it is valid and can also cause errors in your data analysis.\n",
    "This is why it is essential to deal with and detect duplicates in the data."
   ]
  },
  {
   "cell_type": "code",
   "execution_count": 9,
   "metadata": {},
   "outputs": [
    {
     "name": "stdout",
     "output_type": "stream",
     "text": [
      "      Name  Age  Location Date Modified\n",
      "0   Nikita   33    Mumbai    08-06-2022\n",
      "1  Katrina   32    London    01-02-2022\n",
      "2     Evan   40  New York    08-12-2022\n",
      "3     Kygo   57   Atlanta    09-12-2022\n",
      "4    Kavya   33    Mumbai    01-01-2022\n",
      "5     Anne   32     Paris    12-09-2022\n"
     ]
    }
   ],
   "source": [
    "import pandas as pd\n",
    "\n",
    "df8 = pd.DataFrame.from_dict(\n",
    "    {\n",
    "    'Name': ['Nikita', 'Katrina', 'Evan', 'Kygo', 'Kavya', 'Anne'],\n",
    "    'Age': [33, 32, 40, 57, 33, 32],\n",
    "    'Location': ['Mumbai', 'London', 'New York', 'Atlanta', 'Mumbai', 'Paris'],\n",
    "    'Date Modified': ['08-06-2022', '01-02-2022', '08-12-2022', '09-12-2022', '01-01-2022', '12-09-2022']\n",
    "}\n",
    ")\n",
    "\n",
    "print(df8)"
   ]
  },
  {
   "cell_type": "markdown",
   "metadata": {},
   "source": [
    "In Pandas, we have a helpful method, duplicated() Which allows you to identify duplicate records in a dataset.\n",
    "This method returns boolean values about whether duplicate records exist or not."
   ]
  },
  {
   "cell_type": "code",
   "execution_count": 10,
   "metadata": {},
   "outputs": [
    {
     "name": "stdout",
     "output_type": "stream",
     "text": [
      "0    False\n",
      "1    False\n",
      "2    False\n",
      "3    False\n",
      "4    False\n",
      "5    False\n",
      "dtype: bool\n"
     ]
    }
   ],
   "source": [
    "# Identifying Duplicate Records in a Pandas DataFrame\n",
    "\n",
    "print(df8.duplicated())"
   ]
  },
  {
   "cell_type": "markdown",
   "metadata": {},
   "source": [
    "## Removing Duplicates in Pandas DataFrame\n",
    "Pandas come with an easy method to remove duplicate records using the .drop_duplicates()."
   ]
  },
  {
   "cell_type": "code",
   "execution_count": 11,
   "metadata": {},
   "outputs": [],
   "source": [
    "# df8.drop_duplicates(\n",
    "#     subset=None,            # Which columns to consider \n",
    "#     keep='first',           # Which duplicate record to keep\n",
    "#     inplace=False,          # Whether to drop in place\n",
    "#     ignore_index=False      # Whether to relabel the index\n",
    "# )"
   ]
  },
  {
   "cell_type": "code",
   "execution_count": 12,
   "metadata": {},
   "outputs": [
    {
     "name": "stdout",
     "output_type": "stream",
     "text": [
      "      Name  Age  Location Date Modified\n",
      "0   Nikita   33    Mumbai    08-06-2022\n",
      "1  Katrina   32    London    01-02-2022\n",
      "2     Evan   40  New York    08-12-2022\n",
      "3     Kygo   57   Atlanta    09-12-2022\n",
      "5     Anne   32     Paris    12-09-2022\n"
     ]
    }
   ],
   "source": [
    "df9 = df8.drop_duplicates('Location')\n",
    "# this returned a DataFrame where only all items are unique based on the 'Location' Column.\n",
    "print(df9)"
   ]
  },
  {
   "cell_type": "markdown",
   "metadata": {},
   "source": [
    "## Cleaning Strings in Pandas\n",
    "\n",
    "One of the most helpful things about pandas is that it has various methods and attributes regarding dealing with text data, which certainly helps in Natural Language Processing (NLP).\n",
    "This is enhanced by the ability to access any type of string method and apply it directly to an entire array of data.\n",
    "In this tutorial, we are going to learn how to trim white space, split strings into columns, and replace text in strings."
   ]
  },
  {
   "cell_type": "code",
   "execution_count": 13,
   "metadata": {},
   "outputs": [
    {
     "name": "stdout",
     "output_type": "stream",
     "text": [
      "              Name    Region   Location Favorite Color\n",
      "0  Shivansh, Gupta  Region A     Mumbai        green  \n",
      "1     Sonia, Abhel  Region A  New Delhi            red\n",
      "2    Soumya, Gupta  Region B  Hyderabad         yellow\n",
      "3     Vasu, Tiwari  Region C  Bangalore           blue\n",
      "4  Aravind, Mishra  Region D     Mumbai       purple  \n"
     ]
    }
   ],
   "source": [
    "import pandas as pd\n",
    "\n",
    "df10 = pd.DataFrame.from_dict({\n",
    "    'Name': ['Shivansh, Gupta', 'Sonia, Abhel', 'Soumya, Gupta', 'Vasu, Tiwari', 'Aravind, Mishra'],\n",
    "    'Region': ['Region A', 'Region A', 'Region B', 'Region C', 'Region D'],\n",
    "    'Location': ['Mumbai', 'New Delhi', 'Hyderabad', 'Bangalore', 'Mumbai'],\n",
    "    'Favorite Color': ['   green  ', 'red', '  yellow', 'blue', 'purple  ']\n",
    "})\n",
    "\n",
    "print(df10)"
   ]
  },
  {
   "cell_type": "markdown",
   "metadata": {},
   "source": [
    "## Removing White Space in Pandas\n",
    "\n",
    "We can remove the additional White space from the text in pandas. Pandas Come with the front and back methods to remove whitespace from strings but in the above data especially in the 'Favorite Color' column we will be using the .strip() method to remove whitespace from both sides."
   ]
  },
  {
   "cell_type": "code",
   "execution_count": 14,
   "metadata": {},
   "outputs": [
    {
     "name": "stdout",
     "output_type": "stream",
     "text": [
      "              Name    Region   Location Favorite Color\n",
      "0  Shivansh, Gupta  Region A     Mumbai          green\n",
      "1     Sonia, Abhel  Region A  New Delhi            red\n",
      "2    Soumya, Gupta  Region B  Hyderabad         yellow\n",
      "3     Vasu, Tiwari  Region C  Bangalore           blue\n",
      "4  Aravind, Mishra  Region D     Mumbai         purple\n"
     ]
    }
   ],
   "source": [
    "df10['Favorite Color'] = df10['Favorite Color'].str.strip()\n",
    "\n",
    "print(df10)"
   ]
  },
  {
   "cell_type": "markdown",
   "metadata": {},
   "source": [
    "## Replacing Text using Pandas\n",
    "\n",
    "In DataFrame, we have a column named Region which has the word 'Region' in it which seems unnecessary.\n",
    "We are going to use string replace() method"
   ]
  },
  {
   "cell_type": "code",
   "execution_count": 15,
   "metadata": {},
   "outputs": [
    {
     "name": "stdout",
     "output_type": "stream",
     "text": [
      "              Name Region   Location Favorite Color\n",
      "0  Shivansh, Gupta      A     Mumbai          green\n",
      "1     Sonia, Abhel      A  New Delhi            red\n",
      "2    Soumya, Gupta      B  Hyderabad         yellow\n",
      "3     Vasu, Tiwari      C  Bangalore           blue\n",
      "4  Aravind, Mishra      D     Mumbai         purple\n"
     ]
    }
   ],
   "source": [
    "df10['Region'] = df10['Region'].str.replace('Region ', '')\n",
    "\n",
    "print(df10)"
   ]
  },
  {
   "cell_type": "markdown",
   "metadata": {},
   "source": [
    "## Splitting Strings into Columns in Pandas\n",
    "\n",
    "We can see in our DataFrame that we have a column named 'Name' which has first and last name but with ',' character in between them.\n",
    "Now, we are going to make two new columns based on first and last name and will remove the original 'Name' Column: Here we are going to use string .split() method which will split the string based on the character we gave as an argument and we need to pass in the expand=True argument, in order to instruct Pandas to split the values into separate items."
   ]
  },
  {
   "cell_type": "code",
   "execution_count": 16,
   "metadata": {},
   "outputs": [
    {
     "name": "stdout",
     "output_type": "stream",
     "text": [
      "  Region   Location Favorite Color First Name Last Name\n",
      "0      A     Mumbai          green   Shivansh     Gupta\n",
      "1      A  New Delhi            red      Sonia     Abhel\n",
      "2      B  Hyderabad         yellow     Soumya     Gupta\n",
      "3      C  Bangalore           blue       Vasu    Tiwari\n",
      "4      D     Mumbai         purple    Aravind    Mishra\n"
     ]
    }
   ],
   "source": [
    "df10['Favorite Color'] = df10['Favorite Color'].str.strip()\n",
    "df10[['First Name', 'Last Name']] = df10['Name'].str.split(',', expand=True)\n",
    "df10['Region'] = df10['Region'].str.replace('Region ', '')\n",
    "df10 = df10.drop(['Name'], axis=1)\n",
    "\n",
    "print(df10)"
   ]
  },
  {
   "cell_type": "markdown",
   "metadata": {},
   "source": [
    "Along with these string methods, we can also use some String Case methods in pandas like:\n",
    "\n",
    ".upper() will convert a string to all upper case\n",
    ".lower() will convert a string to all lower case\n",
    ".title() will convert a string to title case"
   ]
  }
 ],
 "metadata": {
  "kernelspec": {
   "display_name": ".venv",
   "language": "python",
   "name": "python3"
  },
  "language_info": {
   "codemirror_mode": {
    "name": "ipython",
    "version": 3
   },
   "file_extension": ".py",
   "mimetype": "text/x-python",
   "name": "python",
   "nbconvert_exporter": "python",
   "pygments_lexer": "ipython3",
   "version": "3.11.4"
  }
 },
 "nbformat": 4,
 "nbformat_minor": 2
}
