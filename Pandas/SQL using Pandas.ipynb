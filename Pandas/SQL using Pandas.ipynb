{
 "cells": [
  {
   "cell_type": "markdown",
   "metadata": {},
   "source": [
    "## Inner Merge\n",
    "\n",
    "We frequently distribute relevant data across several tables in order to store it effectively.\n",
    "For this tutorial, we will be using some datasets from an e-commerce business and we have three datasets namely Sales and Targets.\n",
    "\n",
    "we can Inner merge two tables using merge() function and the merge function will look for the common column."
   ]
  },
  {
   "cell_type": "code",
   "execution_count": 12,
   "metadata": {},
   "outputs": [
    {
     "name": "stdout",
     "output_type": "stream",
     "text": [
      "   User ID  Year                          Name\n",
      "0        1  2003               Dinosaur Planet\n",
      "1        2  2004    Isle of Man TT 2004 Review\n",
      "2        3  1997                     Character\n",
      "3        4  1994  Paula Abdul's Get Up & Dance\n",
      "4        5  2004      The Rise and Fall of ECW\n",
      "*******************************************************************************\n",
      "   User ID Subscription Type  Monthly Revenue Join Date Last Payment Date  \\\n",
      "0        1             Basic               10  15/01/22           10/6/23   \n",
      "1        2           Premium               15    5/9/21          22/06/23   \n",
      "2        3          Standard               12  28/02/23          27/06/23   \n",
      "3        4          Standard               12   10/7/22          26/06/23   \n",
      "4        5             Basic               10    1/5/23          28/06/23   \n",
      "\n",
      "          Country  Age  Gender      Device Plan Duration  \n",
      "0   United States   28    Male  Smartphone       1 Month  \n",
      "1          Canada   35  Female      Tablet       1 Month  \n",
      "2  United Kingdom   42    Male    Smart TV       1 Month  \n",
      "3       Australia   51  Female      Laptop       1 Month  \n",
      "4         Germany   33    Male  Smartphone       1 Month  \n"
     ]
    }
   ],
   "source": [
    "import pandas as pd\n",
    "\n",
    "movie_titles = pd.read_csv('E:\\GenAI-Learn\\Python\\BroCode_Python_Learn\\movie_titles.csv')\n",
    "Userbase = pd.read_csv('E:\\GenAI-Learn\\Python\\BroCode_Python_Learn\\\\Netflix_Userbase.csv')\n",
    "print(movie_titles.head(5))\n",
    "\n",
    "print('*******************************************************************************')\n",
    "\n",
    "print(Userbase.head(5))"
   ]
  },
  {
   "cell_type": "code",
   "execution_count": 23,
   "metadata": {},
   "outputs": [
    {
     "name": "stdout",
     "output_type": "stream",
     "text": [
      "   User ID  Year                          Name Subscription Type  \\\n",
      "0        1  2003               Dinosaur Planet             Basic   \n",
      "1        2  2004    Isle of Man TT 2004 Review           Premium   \n",
      "2        3  1997                     Character          Standard   \n",
      "3        4  1994  Paula Abdul's Get Up & Dance          Standard   \n",
      "4        5  2004      The Rise and Fall of ECW             Basic   \n",
      "\n",
      "   Monthly Revenue Join Date Last Payment Date         Country  Age  Gender  \\\n",
      "0               10  15/01/22           10/6/23   United States   28    Male   \n",
      "1               15    5/9/21          22/06/23          Canada   35  Female   \n",
      "2               12  28/02/23          27/06/23  United Kingdom   42    Male   \n",
      "3               12   10/7/22          26/06/23       Australia   51  Female   \n",
      "4               10    1/5/23          28/06/23         Germany   33    Male   \n",
      "\n",
      "       Device Plan Duration  \n",
      "0  Smartphone       1 Month  \n",
      "1      Tablet       1 Month  \n",
      "2    Smart TV       1 Month  \n",
      "3      Laptop       1 Month  \n",
      "4  Smartphone       1 Month  \n",
      "['User ID', 'Year', 'Name', 'Subscription Type', 'Monthly Revenue', 'Join Date', 'Last Payment Date', 'Country', 'Age', 'Gender', 'Device', 'Plan Duration']\n"
     ]
    }
   ],
   "source": [
    "movie_titles_vs_Userbase = pd.merge(movie_titles, Userbase)\n",
    "print(movie_titles_vs_Userbase.head(5))\n",
    "list1 =movie_titles_vs_Userbase.columns.tolist()\n",
    "print(list1)\n",
    "\n",
    "\n"
   ]
  }
 ],
 "metadata": {
  "kernelspec": {
   "display_name": ".venv",
   "language": "python",
   "name": "python3"
  },
  "language_info": {
   "codemirror_mode": {
    "name": "ipython",
    "version": 3
   },
   "file_extension": ".py",
   "mimetype": "text/x-python",
   "name": "python",
   "nbconvert_exporter": "python",
   "pygments_lexer": "ipython3",
   "version": "3.11.4"
  }
 },
 "nbformat": 4,
 "nbformat_minor": 2
}
